{
 "cells": [
  {
   "cell_type": "code",
   "execution_count": 4,
   "id": "2efc8fd9",
   "metadata": {
    "scrolled": true
   },
   "outputs": [],
   "source": [
    "import os"
   ]
  },
  {
   "cell_type": "code",
   "execution_count": 5,
   "id": "0903854e",
   "metadata": {},
   "outputs": [],
   "source": [
    "folder_path = \"E:\\Example Measures - TEL\\Study 3 - P06\"\n",
    "\n",
    "# 遍历文件夹中的所有文件\n",
    "for filename in os.listdir(folder_path):\n",
    "    if filename.endswith(\".csv\") or filename.endswith(\".xls\"):\n",
    "        # 检查文件名是否包含\"P05\"\n",
    "        if \"P05\" in filename:\n",
    "            # 将\"P05\"替换为\"P06\"\n",
    "            new_filename = filename.replace(\"P05\", \"P06\")\n",
    "            # 构建新的文件路径\n",
    "            old_file_path = os.path.join(folder_path, filename)\n",
    "            new_file_path = os.path.join(folder_path, new_filename)\n",
    "            # 重命名文件\n",
    "            os.rename(old_file_path, new_file_path)\n",
    "            print(f\"已重命名文件：{filename} -> {new_filename}\")"
   ]
  }
 ],
 "metadata": {
  "kernelspec": {
   "display_name": "Python 3 (ipykernel)",
   "language": "python",
   "name": "python3"
  },
  "language_info": {
   "codemirror_mode": {
    "name": "ipython",
    "version": 3
   },
   "file_extension": ".py",
   "mimetype": "text/x-python",
   "name": "python",
   "nbconvert_exporter": "python",
   "pygments_lexer": "ipython3",
   "version": "3.11.4"
  }
 },
 "nbformat": 4,
 "nbformat_minor": 5
}
